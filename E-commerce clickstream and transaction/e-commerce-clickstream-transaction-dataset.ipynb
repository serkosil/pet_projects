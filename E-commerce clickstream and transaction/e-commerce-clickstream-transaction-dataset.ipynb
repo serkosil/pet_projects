{
 "cells": [
  {
   "cell_type": "markdown",
   "id": "9cfa0fe1",
   "metadata": {},
   "source": [
    "\n",
    "\n",
    "В датасете (_автор: Waqar Ali_) представлены данные о взаимодействии пользователей на платформе электронной торговли, который включает в себя последовательности событий, таких как просмотр страниц, клики, просмотр товаров и покупки. Каждая запись фиксирует действия пользователя в рамках сеансов, что делает её пригодной для анализа траекторий кликов и последовательностей транзакций.\n",
    "\n",
    "Описание данных:\n",
    "- `UserID` Уникальный идентификатор для каждого пользователя.\n",
    "- `SessionID` Уникальный идентификатор для каждой сессии.\n",
    "- `Timestamp` Дата и время взаимодействия.\n",
    "- `EventType` Тип события (например, просмотр страницы, клик, просмотр товара, добавление в корзину, покупка).\n",
    "- `ProductID` Уникальный идентификатор товаров, участвующих во взаимодействии.\n",
    "- `Amount` Сумма транзакции (для покупок).\n",
    "- `Outcome` Целевое событие (например, покупка)."
   ]
  },
  {
   "cell_type": "code",
   "execution_count": 16,
   "id": "b55738cf",
   "metadata": {
    "_cell_guid": "b1076dfc-b9ad-4769-8c92-a6c4dae69d19",
    "_uuid": "8f2839f25d086af736a60e9eeb907d3b93b6e0e5",
    "execution": {
     "iopub.execute_input": "2024-07-24T11:29:08.881824Z",
     "iopub.status.busy": "2024-07-24T11:29:08.881009Z",
     "iopub.status.idle": "2024-07-24T11:29:09.663000Z",
     "shell.execute_reply": "2024-07-24T11:29:09.661933Z"
    },
    "papermill": {
     "duration": 0.789978,
     "end_time": "2024-07-24T11:29:09.666008",
     "exception": false,
     "start_time": "2024-07-24T11:29:08.876030",
     "status": "completed"
    },
    "tags": []
   },
   "outputs": [],
   "source": [
    "import numpy as np\n",
    "import pandas as pd\n",
    "from collections import Counter\n",
    "import matplotlib.pyplot as plt\n",
    "import seaborn as sns\n",
    "from keras.preprocessing.sequence import pad_sequences\n",
    "from sklearn.feature_extraction.text import CountVectorizer\n",
    "from sklearn.cluster import KMeans\n",
    "from sklearn.metrics import silhouette_score\n",
    "from sklearn.preprocessing import StandardScaler\n",
    "import statsmodels.api as sm\n",
    "from mlxtend.frequent_patterns import apriori, association_rules\n",
    "from sklearn.linear_model import LogisticRegression\n",
    "from sklearn.model_selection import train_test_split\n",
    "from sklearn.ensemble import RandomForestClassifier\n",
    "    "
   ]
  },
  {
   "cell_type": "code",
   "execution_count": 2,
   "id": "2586dff7",
   "metadata": {
    "execution": {
     "iopub.execute_input": "2024-07-24T11:29:09.673918Z",
     "iopub.status.busy": "2024-07-24T11:29:09.673465Z",
     "iopub.status.idle": "2024-07-24T11:29:09.859467Z",
     "shell.execute_reply": "2024-07-24T11:29:09.858327Z"
    },
    "papermill": {
     "duration": 0.19249,
     "end_time": "2024-07-24T11:29:09.861826",
     "exception": false,
     "start_time": "2024-07-24T11:29:09.669336",
     "status": "completed"
    },
    "tags": []
   },
   "outputs": [
    {
     "name": "stdout",
     "output_type": "stream",
     "text": [
      "   UserID  SessionID                   Timestamp     EventType  ProductID  \\\n",
      "0       1          1  2024-07-07 18:00:26.959902     page_view        NaN   \n",
      "1       1          1  2024-03-05 22:01:00.072000     page_view        NaN   \n",
      "2       1          1  2024-03-23 22:08:10.568453  product_view  prod_8199   \n",
      "3       1          1  2024-03-12 00:32:05.495638   add_to_cart  prod_4112   \n",
      "4       1          1  2024-02-25 22:43:01.318876   add_to_cart  prod_3354   \n",
      "\n",
      "   Amount Outcome  \n",
      "0     NaN     NaN  \n",
      "1     NaN     NaN  \n",
      "2     NaN     NaN  \n",
      "3     NaN     NaN  \n",
      "4     NaN     NaN  \n"
     ]
    }
   ],
   "source": [
    "# Чтение данных из файла в датафрейм\n",
    "data = pd.read_csv('ecommerce_clickstream_transactions.csv')\n",
    "\n",
    "print(data.head())"
   ]
  },
  {
   "cell_type": "code",
   "execution_count": 3,
   "id": "ec966556",
   "metadata": {},
   "outputs": [],
   "source": [
    "# Приведение к общепринятому виду названий столбцов\n",
    "data = data.rename(columns={\n",
    "    'UserID': 'user_id',\n",
    "    'SessionID': 'session_id',\n",
    "    'Timestamp': 'timestamp',\n",
    "    'EventType': 'event_type',\n",
    "    'ProductID': 'product_id',\n",
    "    'Amount': 'amount',\n",
    "    'Outcome': 'outcome'\n",
    "})"
   ]
  },
  {
   "cell_type": "code",
   "execution_count": 4,
   "id": "e6e90dfe",
   "metadata": {},
   "outputs": [],
   "source": [
    "# Проверка, что 'data' является копией DataFrame, чтобы избежать предупреждения SettingWithCopyWarning\n",
    "data = data.copy()"
   ]
  },
  {
   "cell_type": "code",
   "execution_count": 5,
   "id": "2f1644f6",
   "metadata": {
    "execution": {
     "iopub.execute_input": "2024-07-24T11:29:09.871431Z",
     "iopub.status.busy": "2024-07-24T11:29:09.870516Z",
     "iopub.status.idle": "2024-07-24T11:29:09.893112Z",
     "shell.execute_reply": "2024-07-24T11:29:09.892102Z"
    },
    "papermill": {
     "duration": 0.030059,
     "end_time": "2024-07-24T11:29:09.895445",
     "exception": false,
     "start_time": "2024-07-24T11:29:09.865386",
     "status": "completed"
    },
    "tags": []
   },
   "outputs": [
    {
     "name": "stdout",
     "output_type": "stream",
     "text": [
      "Пропущенные значения в каждом столбце:\n",
      "user_id           0\n",
      "session_id        0\n",
      "timestamp         0\n",
      "event_type        0\n",
      "product_id    42704\n",
      "amount        64135\n",
      "outcome       64135\n",
      "dtype: int64\n"
     ]
    }
   ],
   "source": [
    "# Отображение количества отсутствующих значений в каждом столбце\n",
    "print(\"Пропущенные значения в каждом столбце:\")\n",
    "print(data.isnull().sum())"
   ]
  },
  {
   "cell_type": "code",
   "execution_count": 6,
   "id": "2e912c42",
   "metadata": {
    "execution": {
     "iopub.execute_input": "2024-07-24T11:29:09.903780Z",
     "iopub.status.busy": "2024-07-24T11:29:09.902948Z",
     "iopub.status.idle": "2024-07-24T11:29:09.942403Z",
     "shell.execute_reply": "2024-07-24T11:29:09.941359Z"
    },
    "papermill": {
     "duration": 0.045914,
     "end_time": "2024-07-24T11:29:09.944638",
     "exception": false,
     "start_time": "2024-07-24T11:29:09.898724",
     "status": "completed"
    },
    "tags": []
   },
   "outputs": [
    {
     "name": "stdout",
     "output_type": "stream",
     "text": [
      "Обработка пропущенных значений. Очищенный набор данных:\n",
      "user_id           0\n",
      "session_id        0\n",
      "timestamp         0\n",
      "event_type        0\n",
      "product_id    42704\n",
      "amount        64135\n",
      "outcome       64135\n",
      "dtype: int64\n"
     ]
    }
   ],
   "source": [
    "# Удаление строк, в которых существенные столбцы имеют недостающие значения\n",
    "data_cleaned = data.dropna(subset=['user_id', 'session_id', 'timestamp', 'event_type'])\n",
    "\n",
    "# В качестве альтернативы можно заполнить недостающие значения определенными величинами или использовать интерполяцию\n",
    "# Для числовых столбцов можно использовать data['amount'].fillna(data['amount'].median(), inplace=True)\n",
    "# Для категориальных столбцов можно использовать data['product_id'].fillna('Unknown', inplace=True)\n",
    "\n",
    "print(\"Обработка пропущенных значений. Очищенный набор данных:\")\n",
    "print(data_cleaned.isnull().sum())"
   ]
  },
  {
   "cell_type": "code",
   "execution_count": 7,
   "id": "37a5b8db",
   "metadata": {
    "execution": {
     "iopub.execute_input": "2024-07-24T11:29:09.952987Z",
     "iopub.status.busy": "2024-07-24T11:29:09.952291Z",
     "iopub.status.idle": "2024-07-24T11:29:10.010709Z",
     "shell.execute_reply": "2024-07-24T11:29:10.009640Z"
    },
    "papermill": {
     "duration": 0.065008,
     "end_time": "2024-07-24T11:29:10.012920",
     "exception": false,
     "start_time": "2024-07-24T11:29:09.947912",
     "status": "completed"
    },
    "tags": []
   },
   "outputs": [
    {
     "name": "stdout",
     "output_type": "stream",
     "text": [
      "Типы данных после преобразования:\n",
      "user_id                int64\n",
      "session_id             int64\n",
      "timestamp     datetime64[ns]\n",
      "event_type            object\n",
      "product_id          category\n",
      "amount               float64\n",
      "outcome             category\n",
      "dtype: object\n"
     ]
    }
   ],
   "source": [
    "# Преобразование временной метки в формат времени\n",
    "data_cleaned['timestamp'] = pd.to_datetime(data_cleaned['timestamp'])\n",
    "\n",
    "# Преобразование суммы в числовое значение\n",
    "data_cleaned['amount'] = pd.to_numeric(data_cleaned['amount'], errors='coerce')\n",
    "\n",
    "# Проверка, что product_id и outcome являются категориальными или объектными типами\n",
    "data_cleaned['product_id'] = data_cleaned['product_id'].astype('category')\n",
    "data_cleaned['outcome'] = data_cleaned['outcome'].astype('category')\n",
    "\n",
    "# Отображение типов данных для подтверждения изменений\n",
    "print(\"Типы данных после преобразования:\")\n",
    "print(data_cleaned.dtypes)"
   ]
  },
  {
   "cell_type": "code",
   "execution_count": 8,
   "id": "95dcff02",
   "metadata": {
    "execution": {
     "iopub.execute_input": "2024-07-24T11:29:10.021324Z",
     "iopub.status.busy": "2024-07-24T11:29:10.020498Z",
     "iopub.status.idle": "2024-07-24T11:29:10.030575Z",
     "shell.execute_reply": "2024-07-24T11:29:10.029442Z"
    },
    "papermill": {
     "duration": 0.016416,
     "end_time": "2024-07-24T11:29:10.032681",
     "exception": false,
     "start_time": "2024-07-24T11:29:10.016265",
     "status": "completed"
    },
    "tags": []
   },
   "outputs": [
    {
     "name": "stdout",
     "output_type": "stream",
     "text": [
      "Форма отфильтрованного набора данных:\n",
      "(10682, 7)\n"
     ]
    }
   ],
   "source": [
    "# Удаление строк с amount = 0, если они не нужны\n",
    "data_filtered = data_cleaned[data_cleaned['amount'] > 0]\n",
    "\n",
    "# Отображение формы отфильтрованного датафрейма\n",
    "print(\"Форма отфильтрованного набора данных:\")\n",
    "print(data_filtered.shape)"
   ]
  },
  {
   "cell_type": "code",
   "execution_count": 9,
   "id": "1c8d0cd5",
   "metadata": {
    "execution": {
     "iopub.execute_input": "2024-07-24T11:29:10.041233Z",
     "iopub.status.busy": "2024-07-24T11:29:10.040849Z",
     "iopub.status.idle": "2024-07-24T11:29:10.175091Z",
     "shell.execute_reply": "2024-07-24T11:29:10.174073Z"
    },
    "papermill": {
     "duration": 0.141364,
     "end_time": "2024-07-24T11:29:10.177459",
     "exception": false,
     "start_time": "2024-07-24T11:29:10.036095",
     "status": "completed"
    },
    "tags": []
   },
   "outputs": [
    {
     "name": "stdout",
     "output_type": "stream",
     "text": [
      "Данные с новыми возможностями:\n",
      "   user_id  session_id                  timestamp    event_type product_id  \\\n",
      "0        1           1 2024-07-07 18:00:26.959902     page_view        NaN   \n",
      "1        1           1 2024-03-05 22:01:00.072000     page_view        NaN   \n",
      "2        1           1 2024-03-23 22:08:10.568453  product_view  prod_8199   \n",
      "3        1           1 2024-03-12 00:32:05.495638   add_to_cart  prod_4112   \n",
      "4        1           1 2024-02-25 22:43:01.318876   add_to_cart  prod_3354   \n",
      "\n",
      "   amount  outcome  year  month  day_of_week  is_purchase  \n",
      "0     0.0  Unknown  2024      7            6            0  \n",
      "1     0.0  Unknown  2024      3            1            0  \n",
      "2     0.0  Unknown  2024      3            5            0  \n",
      "3     0.0  Unknown  2024      3            1            0  \n",
      "4     0.0  Unknown  2024      2            6            0  \n"
     ]
    }
   ],
   "source": [
    "# Замена бесконечных значений на NaN\n",
    "data.replace([np.inf, -np.inf], np.nan, inplace=True)\n",
    "\n",
    "# Заполнение недостающих значений\n",
    "data['amount'] = data['amount'].fillna(0)  # Reassign the result\n",
    "data['outcome'] = data['outcome'].fillna('Unknown')  # Reassign the result\n",
    "\n",
    "# Преобразование 'Timestamp' в datetime\n",
    "data['timestamp'] = pd.to_datetime(data['timestamp'])\n",
    "\n",
    "# Извлечения даты\n",
    "data['year'] = data['timestamp'].dt.year\n",
    "data['month'] = data['timestamp'].dt.month\n",
    "data['day_of_week'] = data['timestamp'].dt.dayofweek\n",
    "\n",
    "# Создание нового столбца на основе EventType\n",
    "data['is_purchase'] = data['event_type'].apply(lambda x: 1 if x == 'purchase' else 0)\n",
    "\n",
    "# Вывод первых строк с новыми данными\n",
    "print(\"Данные с новыми возможностями:\")\n",
    "print(data.head())"
   ]
  },
  {
   "cell_type": "code",
   "execution_count": 10,
   "id": "b2df9cfa",
   "metadata": {
    "execution": {
     "iopub.execute_input": "2024-07-24T11:29:10.186222Z",
     "iopub.status.busy": "2024-07-24T11:29:10.185481Z",
     "iopub.status.idle": "2024-07-24T11:29:12.681020Z",
     "shell.execute_reply": "2024-07-24T11:29:12.680019Z"
    },
    "papermill": {
     "duration": 2.502541,
     "end_time": "2024-07-24T11:29:12.683516",
     "exception": false,
     "start_time": "2024-07-24T11:29:10.180975",
     "status": "completed"
    },
    "tags": []
   },
   "outputs": [
    {
     "name": "stdout",
     "output_type": "stream",
     "text": [
      "Проверка на наличие оставшихся бесконечных значений:\n",
      "user_id        0\n",
      "session_id     0\n",
      "timestamp      0\n",
      "event_type     0\n",
      "product_id     0\n",
      "amount         0\n",
      "outcome        0\n",
      "year           0\n",
      "month          0\n",
      "day_of_week    0\n",
      "is_purchase    0\n",
      "dtype: int64\n",
      "Описательная статистика:\n",
      "             user_id    session_id                      timestamp event_type  \\\n",
      "count   74817.000000  74817.000000                          74817      74817   \n",
      "unique           NaN           NaN                            NaN          7   \n",
      "top              NaN           NaN                            NaN  page_view   \n",
      "freq             NaN           NaN                            NaN      10819   \n",
      "mean      500.740741      5.509777  2024-04-12 21:17:37.800426240        NaN   \n",
      "min         1.000000      1.000000     2024-01-01 00:01:35.004064        NaN   \n",
      "25%       251.000000      3.000000  2024-02-21 04:42:25.190728960        NaN   \n",
      "50%       501.000000      6.000000     2024-04-13 00:51:23.434848        NaN   \n",
      "75%       751.000000      8.000000  2024-06-03 07:31:54.617516032        NaN   \n",
      "max      1000.000000     10.000000     2024-07-24 10:13:04.983908        NaN   \n",
      "std       288.945183      2.869337                            NaN        NaN   \n",
      "\n",
      "       product_id        amount  outcome     year         month   day_of_week  \\\n",
      "count       32113  74817.000000    74817  74817.0  74817.000000  74817.000000   \n",
      "unique       8747           NaN        2      NaN           NaN           NaN   \n",
      "top     prod_6051           NaN  Unknown      NaN           NaN           NaN   \n",
      "freq           12           NaN    64135      NaN           NaN           NaN   \n",
      "mean          NaN     36.149177      NaN   2024.0      3.906372      2.961787   \n",
      "min           NaN      0.000000      NaN   2024.0      1.000000      0.000000   \n",
      "25%           NaN      0.000000      NaN   2024.0      2.000000      1.000000   \n",
      "50%           NaN      0.000000      NaN   2024.0      4.000000      3.000000   \n",
      "75%           NaN      0.000000      NaN   2024.0      6.000000      5.000000   \n",
      "max           NaN    499.981538      NaN   2024.0      7.000000      6.000000   \n",
      "std           NaN    103.764693      NaN      0.0      1.956915      2.004332   \n",
      "\n",
      "         is_purchase  \n",
      "count   74817.000000  \n",
      "unique           NaN  \n",
      "top              NaN  \n",
      "freq             NaN  \n",
      "mean        0.142775  \n",
      "min         0.000000  \n",
      "25%         0.000000  \n",
      "50%         0.000000  \n",
      "75%         0.000000  \n",
      "max         1.000000  \n",
      "std         0.349846  \n"
     ]
    },
    {
     "data": {
      "image/png": "[encoded data removed]",
      "text/plain": [
       "<Figure size 1000x600 with 1 Axes>"
      ]
     },
     "metadata": {},
     "output_type": "display_data"
    },
    {
     "data": {
      "image/png": "[encoded data removed]",
      "text/plain": [
       "<Figure size 1000x600 with 1 Axes>"
      ]
     },
     "metadata": {},
     "output_type": "display_data"
    }
   ],
   "source": [
    "# Проверка, что 'data' - это DataFrame, и замена бесконечных значений на NaN\n",
    "data = data.replace([np.inf, -np.inf], np.nan)\n",
    "\n",
    "# Заполнение значения NaN соответствующими значениями\n",
    "data['amount'] = data['amount'].fillna(0)\n",
    "\n",
    "# Проверка, не осталось ли бесконечных значений\n",
    "print(\"Проверка на наличие оставшихся бесконечных значений:\")\n",
    "print(data.isin([np.inf, -np.inf]).sum())\n",
    "\n",
    "# Описательная статистика\n",
    "print(\"Описательная статистика:\")\n",
    "print(data.describe(include='all'))\n",
    "\n",
    "# График распределения суммы\n",
    "plt.figure(figsize=(10, 6))\n",
    "sns.histplot(data['amount'].dropna(), bins=50, kde=True)  # Drop NaN values for the plot\n",
    "plt.title('Распределение суммы')\n",
    "plt.xlabel('Сумма')\n",
    "plt.ylabel('Частота')\n",
    "plt.show()\n",
    "\n",
    "# График количества событий для каждого типа событий\n",
    "plt.figure(figsize=(10, 6))\n",
    "sns.countplot(data=data, x='event_type')\n",
    "plt.title('Количество событий для каждого типа события')\n",
    "plt.xlabel('Тип события')\n",
    "plt.ylabel('Количество')\n",
    "plt.xticks(rotation=45)\n",
    "plt.show()\n"
   ]
  },
  {
   "cell_type": "markdown",
   "id": "32535510",
   "metadata": {},
   "source": [
    "1. Анализ последовательностей событий:\n",
    "- Выявление шаблонов поведения пользователей, таких как последовательности событий, которые предшествуют покупке или оттоку клиента.\n",
    "- Один из способов - использование алгоритмов Markov Chains для определения вероятности перехода от одного состояния к другому.\n",
    "- Можно также использовать алгоритмы кластеризации для группировки схожих последовательностей событий.\n",
    "2. Анализ временных рядов:\n",
    "- Анализируйте временные ряды, чтобы выявить тенденции и закономерности в поведении пользователей.\n",
    "- Например, можно определить, как часто пользователи покупают товары после просмотра определенных страниц или как долго они остаются на сайте перед покупкой.\n",
    "3. Ассоциативный анализ:\n",
    "- Ассоциативный анализ позволяет выявить взаимосвязи между различными элементами данных, такими как просмотренные страницы, товары в корзине и покупки.\n",
    "- Это может помочь определить, какие товары часто покупаются вместе или какие страницы обычно просматриваются перед покупкой.\n",
    "4. Анализ атрибутов товаров:\n",
    "- Изучайте атрибуты товаров, чтобы определить, какие характеристики влияют на покупку или отток клиентов.\n",
    "- Можно использовать методы машинного обучения, такие как логистическая регрессия или случайный лес, для предсказания вероятности покупки на основе атрибутов товара.\n",
    "5. Анализ клиентской базы:\n",
    "- Исследуйте данные о клиентах, чтобы выявить общие черты среди покупателей или тех, кто ушел.\n",
    "- Можете использовать методы кластеризации или сегментации для выделения групп клиентов с похожими характеристиками.\n",
    "6. Анализ данных о транзакциях:\n",
    "- Проанализируйте данные о транзакциях, чтобы выявить закономерности в суммах покупок, частоте покупок и других финансовых показателях.\n",
    "- Эти данные могут помочь определить, какие факторы влияют на объем продаж и прибыльность.\n"
   ]
  },
  {
   "cell_type": "code",
   "execution_count": 11,
   "id": "d7c7a49e",
   "metadata": {},
   "outputs": [
    {
     "name": "stdout",
     "output_type": "stream",
     "text": [
      "['page_view' 'product_view' 'add_to_cart' 'login' 'click' 'logout'\n",
      " 'purchase']\n"
     ]
    }
   ],
   "source": [
    "# Вывод уникальных значений в столбце EventType\n",
    "print(data['event_type'].unique())"
   ]
  },
  {
   "cell_type": "code",
   "execution_count": 14,
   "id": "00c227fa",
   "metadata": {},
   "outputs": [
    {
     "name": "stdout",
     "output_type": "stream",
     "text": [
      "Кластеры последовательностей событий:\n",
      "0: ['page_view', 'logout'] -> 4\n",
      "1: ['page_view', 'click'] -> 4\n",
      "2: ['page_view', 'add_to_cart'] -> 4\n",
      "3: ['page_view', 'product_view', 'purchase'] -> 0\n",
      "4: ['page_view', 'product_view', 'logout'] -> 0\n",
      "5: ['page_view', 'product_view', 'click'] -> 0\n",
      "6: ['page_view', 'login', 'product_view'] -> 0\n",
      "7: ['page_view', 'login', 'page_view', 'click', 'page_view', 'logout'] -> 2\n",
      "8: ['page_view', 'product_view', 'add_to_cart', 'login', 'click', 'logout', 'purchase'] -> 1\n",
      "9: ['page_view', 'product_view', 'add_to_cart', 'login', 'click', 'logout', 'purchase', 'page_view', 'product_view', 'add_to_cart', 'login', 'click', 'logout'] -> 3\n"
     ]
    }
   ],
   "source": [
    "# Функция для преобразования последовательности событий в вектор\n",
    "def event_sequence_to_vector(event_sequence):\n",
    "    # Преобразуем последовательность событий в строку\n",
    "    event_string = ' '.join(event_sequence)\n",
    "    # Создаем векторизатор для подсчёта частоты событий\n",
    "    vectorizer = CountVectorizer()\n",
    "    # Применяем векторизацию к строке\n",
    "    vectorized_events = vectorizer.fit_transform([event_string]).toarray()[0]\n",
    "    # Возвращаем вектор\n",
    "    return vectorized_events\n",
    "\n",
    "# Функция для вычисления расстояния между двумя последовательностями событий\n",
    "def distance_between_sequences(seq1, seq2):\n",
    "    # Преобразуем последовательности в векторы\n",
    "    vec1 = event_sequence_to_vector(seq1)\n",
    "    vec2 = event_sequence_to_vector(seq2)\n",
    "    # Вычисляем евклидово расстояние между векторами\n",
    "    return np.linalg.norm(vec1 - vec2)\n",
    "\n",
    "# Функция для нахождения ближайших соседей для данной последовательности событий\n",
    "def find_nearest_neighbors(event_sequence, k=5):\n",
    "    # Получаем вектор для данной последовательности\n",
    "    vec = event_sequence_to_vector(event_sequence)\n",
    "    # Создаем список для хранения ближайших соседей\n",
    "    neighbors = []\n",
    "    # Перебираем все последовательности в наборе данных\n",
    "    for seq in sequences:\n",
    "        # Вычисляем расстояние до текущей последовательности\n",
    "        dist = distance_between_sequences(event_sequence, seq)\n",
    "        # Добавляем последовательность в список ближайших соседей\n",
    "        neighbors.append((dist, seq))\n",
    "    # Сортируем список по расстоянию\n",
    "    neighbors.sort()\n",
    "    # Возвращаем k ближайших соседей\n",
    "    return neighbors[:k]\n",
    "\n",
    "# Функция для кластеризации последовательностей событий\n",
    "def cluster_sequences(sequences, n_clusters=5):\n",
    "    # Преобразуем последовательности в векторы\n",
    "    vectors = [event_sequence_to_vector(seq) for seq in sequences]\n",
    "    \n",
    "    # Приводим все векторы к одной длине\n",
    "    max_len = max(len(x) for x in vectors)\n",
    "    padded_vectors = pad_sequences(vectors, maxlen=max_len, padding='post')\n",
    "    \n",
    "    # Создаем экземпляр KMeans\n",
    "    km = KMeans(n_clusters=n_clusters)\n",
    "    # Обучаем модель\n",
    "    km.fit(padded_vectors)\n",
    "    # Получаем кластеры\n",
    "    clusters = km.labels_.tolist()\n",
    "    # Возвращаем кластеры\n",
    "    return clusters\n",
    "\n",
    "# Примеры возможных последовательностей событий\n",
    "sequences = [\n",
    "    ['page_view', 'logout'],\n",
    "    ['page_view', 'click'],\n",
    "    ['page_view', 'add_to_cart'],\n",
    "    ['page_view', 'product_view', 'purchase'],\n",
    "    ['page_view', 'product_view', 'logout'],\n",
    "    ['page_view', 'product_view', 'click'],\n",
    "    ['page_view', 'login', 'product_view'],\n",
    "    ['page_view', 'login', 'page_view', 'click', 'page_view', 'logout'],\n",
    "    ['page_view', 'product_view', 'add_to_cart', 'login', 'click', 'logout', 'purchase'],\n",
    "    ['page_view', 'product_view', 'add_to_cart', 'login', 'click', 'logout', 'purchase', 'page_view', 'product_view', 'add_to_cart', 'login', 'click', 'logout']\n",
    "]\n",
    "\n",
    "# Кластеризация последовательностей событий\n",
    "clusters = cluster_sequences(sequences)\n",
    "\n",
    "# Вывод кластеров\n",
    "print(\"Кластеры последовательностей событий:\")\n",
    "for i in range(len(sequences)):\n",
    "    print(f\"{i}: {sequences[i]} -> {clusters[i]}\")"
   ]
  },
  {
   "cell_type": "code",
   "execution_count": 32,
   "id": "600a3042",
   "metadata": {},
   "outputs": [],
   "source": [
    "def analyze_ecom_data(df):\n",
    "    \"\"\"\n",
    "    Выполняет комплексный анализ данных электронной коммерции, включая анализ сетей,\n",
    "    прогнозирование покупок и выявление аномалий.\n",
    "\n",
    "    Args:\n",
    "        df (pd.DataFrame): DataFrame с данными о взаимодействии пользователей.\n",
    "    \"\"\"\n",
    "\n",
    "    # --- 1. Анализ сети совместных покупок ---\n",
    "    print(\"\\n--- 1. Анализ сети совместных покупок ---\")\n",
    "\n",
    "    # Формируем список товаров, купленных в каждой сессии\n",
    "    purchase_sessions = df[df['is_purchase'] == 1].groupby('session_id')['product_id'].apply(list)\n",
    "\n",
    "    # Создаем граф\n",
    "    G = nx.Graph()\n",
    "\n",
    "    # Добавляем ребра в граф на основе совместных покупок\n",
    "    for products in purchase_sessions:\n",
    "        for i in range(len(products)):\n",
    "            for j in range(i + 1, len(products)):\n",
    "                product1 = products[i]\n",
    "                product2 = products[j]\n",
    "\n",
    "                # Если ребро уже существует, увеличиваем вес, иначе добавляем новое ребро\n",
    "                if G.has_edge(product1, product2):\n",
    "                    G[product1][product2]['weight'] += 1\n",
    "                else:\n",
    "                    G.add_edge(product1, product2, weight=1)\n",
    "\n",
    "    print(f\"Количество узлов (товаров): {G.number_of_nodes()}\")\n",
    "    print(f\"Количество ребер (совместных покупок): {G.number_of_edges()}\")\n",
    "\n",
    "    # Анализ основных характеристик сети\n",
    "    degrees = dict(G.degree())\n",
    "    print(\"\\nТоп-5 товаров по степени (количеству связей):\")\n",
    "    print(sorted(degrees.items(), key=lambda item: item[1], reverse=True)[:5])\n",
    "\n",
    "    # Центральность по посредничеству (Betweenness Centrality)\n",
    "    betweenness_centrality = nx.betweenness_centrality(G, weight='weight')\n",
    "    print(\"\\nТоп-5 товаров по центральности по посредничеству:\")\n",
    "    print(sorted(betweenness_centrality.items(), key=lambda item: item[1], reverse=True)[:5])\n",
    "\n",
    "    # Можно добавить другие метрики сетевого анализа (близость, PageRank и т.д.)\n",
    "\n",
    "    # --- 2. Прогнозирование покупок на основе поведения пользователя ---\n",
    "    print(\"\\n--- 2. Прогнозирование покупок на основе поведения пользователя ---\")\n",
    "\n",
    "    # Подготовка данных\n",
    "    # Создаем признаки на основе истории действий пользователя в сессии\n",
    "    def create_session_features(session_df):\n",
    "        features = {}\n",
    "        features['num_page_views'] = (session_df['event_type'] == 'page_view').sum()\n",
    "        features['num_product_views'] = (session_df['event_type'] == 'product_view').sum()\n",
    "        features['num_add_to_cart'] = (session_df['event_type'] == 'add_to_cart').sum()\n",
    "        features['num_clicks'] = (session_df['event_type'] == 'click').sum()\n",
    "        features['session_duration'] = (session_df['timestamp'].max() - session_df['timestamp'].min()).total_seconds() if len(session_df) > 1 else 0\n",
    "        features['is_purchase'] = session_df['is_purchase'].any() # Была ли покупка в сессии\n",
    "        return pd.Series(features)\n",
    "\n",
    "    session_features = df.groupby('session_id').apply(create_session_features)\n",
    "    session_features = session_features.reset_index()\n",
    "\n",
    "    # Обработка пропущенных значений\n",
    "    session_features = session_features.fillna(0)\n",
    "\n",
    "    # Разделение на тренировочный и тестовый наборы\n",
    "    X = session_features[['num_page_views', 'num_product_views', 'num_add_to_cart', 'num_clicks', 'session_duration']]\n",
    "    y = session_features['is_purchase'].astype(int)\n",
    "\n",
    "    X_train, X_test, y_train, y_test = train_test_split(X, y, test_size=0.2, random_state=42)\n",
    "\n",
    "    # Масштабирование признаков\n",
    "    scaler = StandardScaler()\n",
    "    X_train = scaler.fit_transform(X_train)\n",
    "    X_test = scaler.transform(X_test)\n",
    "\n",
    "    # Обучение модели (Random Forest)\n",
    "    model = RandomForestClassifier(random_state=42)\n",
    "    model.fit(X_train, y_train)\n",
    "\n",
    "    # Оценка модели\n",
    "    y_pred = model.predict(X_test)\n",
    "    accuracy = accuracy_score(y_test, y_pred)\n",
    "    print(f\"\\nТочность прогнозирования покупок: {accuracy:.4f}\")\n",
    "    print(\"\\nClassification Report:\")\n",
    "    print(classification_report(y_test, y_pred))\n",
    "\n",
    "    # --- 3. Выявление аномалий ---\n",
    "    print(\"\\n--- 3. Выявление аномалий ---\")\n",
    "\n",
    "    # Выявляем аномалии в поведении пользователей\n",
    "    def create_user_features(user_df):\n",
    "        features = {}\n",
    "        features['total_sessions'] = user_df['session_id'].nunique()\n",
    "        features['total_spend'] = user_df['amount'].sum()\n",
    "        features['avg_session_duration'] = (user_df['timestamp'].max() - user_df['timestamp'].min()).total_seconds() / features['total_sessions'] if features['total_sessions'] > 0 else 0\n",
    "        features['num_purchases'] = user_df['is_purchase'].sum()\n",
    "        return pd.Series(features)\n",
    "\n",
    "    user_features = df.groupby('user_id').apply(create_user_features).reset_index()\n",
    "    user_features = user_features.fillna(0) #Заполняем NaN\n",
    "\n",
    "    # Масштабирование признаков\n",
    "    scaler = StandardScaler()\n",
    "    X = scaler.fit_transform(user_features[['total_sessions', 'total_spend', 'avg_session_duration', 'num_purchases']])\n",
    "\n",
    "    # Применяем DBSCAN для выявления аномалий\n",
    "    dbscan = DBSCAN(eps=0.5, min_samples=5)  # Настройка параметров DBSCAN\n",
    "    clusters = dbscan.fit_predict(X)\n",
    "\n",
    "    # Добавляем информацию о кластерах в DataFrame\n",
    "    user_features['cluster'] = clusters\n",
    "\n",
    "    # Считаем, что выбросы (cluster == -1) являются аномалиями\n",
    "    anomalies = user_features[user_features['cluster'] == -1]\n",
    "\n",
    "    print(f\"\\nКоличество пользователей, идентифицированных как аномалии: {len(anomalies)}\")\n",
    "    print(\"\\nПримеры аномальных пользователей (user_id):\")\n",
    "    print(anomalies['user_id'].head().tolist())  # Выводим первые 5 user_id аномальных пользователей\n",
    "\n",
    "    # --- 4. Персонализация (пример) ---\n",
    "    print(\"\\n--- 4. Персонализация (пример) ---\")\n",
    "\n",
    "    # Создадим фиктивные правила ассоциации для примера, так как настоящий Apriori не дал результатов\n",
    "    # В реальном коде здесь должна быть логика получения правил\n",
    "    fake_rules = pd.DataFrame({\n",
    "        'antecedents': [['product_A'], ['product_B']],\n",
    "        'consequents': [['product_C'], ['product_D']]\n",
    "    })\n",
    "    #Установим переменную rules\n",
    "    rules = fake_rules\n",
    "\n",
    "    if not rules.empty:\n",
    "        def recommend_products(product):\n",
    "            recommendations = rules[rules['antecedents'].apply(lambda x: product in x)]['consequents'].tolist()\n",
    "            if recommendations:\n",
    "                return list(recommendations[0])  # Возвращаем первый набор рекомендованных товаров\n",
    "            else:\n",
    "                return \"Нет рекомендаций на основе данного товара.\"\n",
    "\n",
    "        # Попробуем рекомендовать для какого-то товара\n",
    "        example_product = 'product_A' #Пример\n",
    "        print(f\"Рекомендации для товара {example_product}:\", recommend_products(example_product))\n",
    "    else:\n",
    "        print(\"Нет правил ассоциации для формирования рекомендаций.\")"
   ]
  },
  {
   "cell_type": "code",
   "execution_count": 33,
   "id": "e8199a93",
   "metadata": {},
   "outputs": [
    {
     "name": "stdout",
     "output_type": "stream",
     "text": [
      "\n",
      "--- 1. Анализ сети совместных покупок ---\n"
     ]
    },
    {
     "ename": "NameError",
     "evalue": "name 'nx' is not defined",
     "output_type": "error",
     "traceback": [
      "\u001b[1;31m---------------------------------------------------------------------------\u001b[0m",
      "\u001b[1;31mNameError\u001b[0m                                 Traceback (most recent call last)",
      "Cell \u001b[1;32mIn[33], line 4\u001b[0m\n\u001b[0;32m      1\u001b[0m \u001b[38;5;66;03m# Загрузка данных (пример)\u001b[39;00m\n\u001b[0;32m      2\u001b[0m \u001b[38;5;66;03m# df = pd.read_csv('your_data.csv')\u001b[39;00m\n\u001b[0;32m      3\u001b[0m \u001b[38;5;66;03m# df['timestamp'] = pd.to_datetime(df['timestamp'])\u001b[39;00m\n\u001b[1;32m----> 4\u001b[0m \u001b[43manalyze_ecom_data\u001b[49m\u001b[43m(\u001b[49m\u001b[43mdata\u001b[49m\u001b[38;5;241;43m.\u001b[39;49m\u001b[43mcopy\u001b[49m\u001b[43m(\u001b[49m\u001b[43m)\u001b[49m\u001b[43m)\u001b[49m\n",
      "Cell \u001b[1;32mIn[32], line 17\u001b[0m, in \u001b[0;36manalyze_ecom_data\u001b[1;34m(df)\u001b[0m\n\u001b[0;32m     14\u001b[0m purchase_sessions \u001b[38;5;241m=\u001b[39m df[df[\u001b[38;5;124m'\u001b[39m\u001b[38;5;124mis_purchase\u001b[39m\u001b[38;5;124m'\u001b[39m] \u001b[38;5;241m==\u001b[39m \u001b[38;5;241m1\u001b[39m]\u001b[38;5;241m.\u001b[39mgroupby(\u001b[38;5;124m'\u001b[39m\u001b[38;5;124msession_id\u001b[39m\u001b[38;5;124m'\u001b[39m)[\u001b[38;5;124m'\u001b[39m\u001b[38;5;124mproduct_id\u001b[39m\u001b[38;5;124m'\u001b[39m]\u001b[38;5;241m.\u001b[39mapply(\u001b[38;5;28mlist\u001b[39m)\n\u001b[0;32m     16\u001b[0m \u001b[38;5;66;03m# Создаем граф\u001b[39;00m\n\u001b[1;32m---> 17\u001b[0m G \u001b[38;5;241m=\u001b[39m \u001b[43mnx\u001b[49m\u001b[38;5;241m.\u001b[39mGraph()\n\u001b[0;32m     19\u001b[0m \u001b[38;5;66;03m# Добавляем ребра в граф на основе совместных покупок\u001b[39;00m\n\u001b[0;32m     20\u001b[0m \u001b[38;5;28;01mfor\u001b[39;00m products \u001b[38;5;129;01min\u001b[39;00m purchase_sessions:\n",
      "\u001b[1;31mNameError\u001b[0m: name 'nx' is not defined"
     ]
    }
   ],
   "source": [
    "# Загрузка данных (пример)\n",
    "# df = pd.read_csv('your_data.csv')\n",
    "# df['timestamp'] = pd.to_datetime(df['timestamp'])\n",
    "analyze_ecom_data(data.copy())"
   ]
  },
  {
   "cell_type": "code",
   "execution_count": null,
   "id": "1703565a",
   "metadata": {},
   "outputs": [],
   "source": []
  },
  {
   "cell_type": "code",
   "execution_count": null,
   "id": "bd3bc50e",
   "metadata": {},
   "outputs": [],
   "source": []
  }
 ],
 "metadata": {
  "kaggle": {
   "accelerator": "none",
   "dataSources": [
    {
     "datasetId": 5438597,
     "sourceId": 9024356,
     "sourceType": "datasetVersion"
    }
   ],
   "dockerImageVersionId": 30746,
   "isGpuEnabled": false,
   "isInternetEnabled": true,
   "language": "python",
   "sourceType": "notebook"
  },
  "kernelspec": {
   "display_name": "Python 3",
   "language": "python",
   "name": "python3"
  },
  "language_info": {
   "codemirror_mode": {
    "name": "ipython",
    "version": 3
   },
   "file_extension": ".py",
   "mimetype": "text/x-python",
   "name": "python",
   "nbconvert_exporter": "python",
   "pygments_lexer": "ipython3",
   "version": "3.12.3"
  },
  "papermill": {
   "default_parameters": {},
   "duration": 6.977409,
   "end_time": "2024-07-24T11:29:13.207925",
   "environment_variables": {},
   "exception": null,
   "input_path": "__notebook__.ipynb",
   "output_path": "__notebook__.ipynb",
   "parameters": {},
   "start_time": "2024-07-24T11:29:06.230516",
   "version": "2.5.0"
  }
 },
 "nbformat": 4,
 "nbformat_minor": 5
}

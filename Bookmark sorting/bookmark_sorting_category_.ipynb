{
 "cells": [
  {
   "cell_type": "code",
   "execution_count": 1,
   "metadata": {},
   "outputs": [
    {
     "name": "stdout",
     "output_type": "stream",
     "text": [
      "Категории успешно извлечены и сохранены в файл 'categories.txt'.\n"
     ]
    }
   ],
   "source": [
    "import re\n",
    "\n",
    "def extract_categories(html_file, output_file):\n",
    "    \"\"\"\n",
    "    Извлекает категории с указанием вложенности из HTML файла закладок\n",
    "    и записывает результаты в текстовый файл.\n",
    "\n",
    "    Args:\n",
    "        html_file (str): Путь к HTML файлу закладок.\n",
    "        output_file (str): Путь к файлу для записи результатов (txt).\n",
    "    \"\"\"\n",
    "\n",
    "    categories = []\n",
    "    stack = []  # Используем стек для отслеживания вложенности\n",
    "    try:\n",
    "        with open(html_file, 'r', encoding='utf-8') as f:\n",
    "            for line in f:\n",
    "                # Ищем строки, содержащие теги <H3>\n",
    "                match = re.search(r'<H3.*?>(.*?)</H3>', line)\n",
    "                if match:\n",
    "                    category_name = match.group(1)\n",
    "\n",
    "                    # Проверяем, нужно ли увеличить или уменьшить уровень вложенности\n",
    "                    if '<DL><p>' in line:\n",
    "                        stack.append(category_name) # Push в стек\n",
    "                    elif '</DL><p>' in line:\n",
    "                        if stack:\n",
    "                            stack.pop() # Pop из стека\n",
    "\n",
    "                    # Создаем строку с учетом вложенности\n",
    "                    indent = '  ' * (len(stack) -1)  # Отступ\n",
    "                    full_category_name = indent + category_name\n",
    "                    categories.append(full_category_name)\n",
    "    except FileNotFoundError:\n",
    "        print(f\"Ошибка: Файл '{html_file}' не найден.\")\n",
    "        return\n",
    "    except Exception as e:\n",
    "        print(f\"Произошла ошибка при чтении файла: {e}\")\n",
    "        return\n",
    "\n",
    "    try:\n",
    "        with open(output_file, 'w', encoding='utf-8') as f:\n",
    "            for category in categories:\n",
    "                f.write(category + '\\n')\n",
    "        print(f\"Категории успешно извлечены и сохранены в файл '{output_file}'.\")\n",
    "    except Exception as e:\n",
    "        print(f\"Произошла ошибка при записи в файл: {e}\")\n",
    "\n",
    "\n",
    "# Пример использования:\n",
    "html_file = 'bookmarks_22.03.2025.html'  # Замените на имя вашего HTML файла\n",
    "output_file = 'categories.txt'  # Имя файла для сохранения категорий\n",
    "extract_categories(html_file, output_file)"
   ]
  }
 ],
 "metadata": {
  "kernelspec": {
   "display_name": "Python 3",
   "language": "python",
   "name": "python3"
  },
  "language_info": {
   "codemirror_mode": {
    "name": "ipython",
    "version": 3
   },
   "file_extension": ".py",
   "mimetype": "text/x-python",
   "name": "python",
   "nbconvert_exporter": "python",
   "pygments_lexer": "ipython3",
   "version": "3.12.3"
  }
 },
 "nbformat": 4,
 "nbformat_minor": 2
}

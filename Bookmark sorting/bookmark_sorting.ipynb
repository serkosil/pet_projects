{
 "cells": [
  {
   "cell_type": "code",
   "execution_count": null,
   "metadata": {},
   "outputs": [],
   "source": [
    "from bs4 import BeautifulSoup\n",
    "\n",
    "try:\n",
    "    from bs4 import BeautifulSoup\n",
    "except ImportError:\n",
    "    print(\"Библиотека BeautifulSoup не установлена. Установите её с помощью команды:\")\n",
    "    print(\"pip install beautifulsoup4\")\n",
    "    exit(1)"
   ]
  },
  {
   "cell_type": "code",
   "execution_count": null,
   "metadata": {},
   "outputs": [],
   "source": [
    "# Чтение файла HTML\n",
    "with open(\"bookmarks_22.03.2025.html\", \"r\", encoding=\"utf-8\") as file:\n",
    "    soup = BeautifulSoup(file, \"html.parser\")"
   ]
  },
  {
   "cell_type": "code",
   "execution_count": null,
   "metadata": {},
   "outputs": [],
   "source": [
    "# Создание словаря для категорий\n",
    "categories = {}"
   ]
  },
  {
   "cell_type": "code",
   "execution_count": null,
   "metadata": {},
   "outputs": [],
   "source": [
    "# Поиск всех закладок\n",
    "for link in soup.find_all(\"a\"):\n",
    "    href = link.get(\"href\")\n",
    "    title = link.text\n",
    "    tags = link.get(\"tags\", \"\").split(\",\")  # Если есть метки\n",
    "    category = \"Uncategorized\"  # По умолчанию\n",
    "\n",
    "    # Пример категоризации по меткам\n",
    "    if \"work\" in tags:\n",
    "        category = \"Work\"\n",
    "    elif \"personal\" in tags:\n",
    "        category = \"Personal\"\n",
    "    elif \"education\" in tags:\n",
    "        category = \"Education\"\n",
    "\n",
    "    # Группировка закладок по категориям\n",
    "    if category not in categories:\n",
    "        categories[category] = []\n",
    "    categories[category].append((title, href))"
   ]
  },
  {
   "cell_type": "code",
   "execution_count": null,
   "metadata": {},
   "outputs": [],
   "source": [
    "# Вывод результатов\n",
    "for category, links in categories.items():\n",
    "    print(f\"Category: {category}\")\n",
    "    for title, href in links:\n",
    "        print(f\"  {title}: {href}\")"
   ]
  },
  {
   "cell_type": "code",
   "execution_count": null,
   "metadata": {},
   "outputs": [],
   "source": []
  },
  {
   "cell_type": "code",
   "execution_count": null,
   "metadata": {},
   "outputs": [],
   "source": [
    "# Сохранение результата в новый файл HTML\n",
    "def save_bookmarks_to_html(categories, output_file):\n",
    "    # Создание корневого элемента HTML\n",
    "    soup = BeautifulSoup(features=\"html.parser\")\n",
    "    html = soup.new_tag(\"html\")\n",
    "    soup.append(html)\n",
    "\n",
    "    # Добавление метаинформации\n",
    "    head = soup.new_tag(\"head\")\n",
    "    title = soup.new_tag(\"title\")\n",
    "    title.string = \"Sorted Bookmarks\"\n",
    "    head.append(title)\n",
    "    html.append(head)\n",
    "\n",
    "    body = soup.new_tag(\"body\")\n",
    "    h1 = soup.new_tag(\"h1\")\n",
    "    h1.string = \"Bookmarks\"\n",
    "    body.append(h1)\n",
    "\n",
    "    # Создание списка закладок\n",
    "    dl = soup.new_tag(\"dl\")\n",
    "\n",
    "    for category, links in categories.items():\n",
    "        # Добавление заголовка категории\n",
    "        dt_category = soup.new_tag(\"dt\")\n",
    "        h3_category = soup.new_tag(\"h3\")\n",
    "        h3_category.string = category\n",
    "        dt_category.append(h3_category)\n",
    "        dl.append(dt_category)\n",
    "\n",
    "        # Добавление закладок в категорию\n",
    "        dl_category = soup.new_tag(\"dl\")\n",
    "        for title, href in links:\n",
    "            dt_link = soup.new_tag(\"dt\")\n",
    "            a_link = soup.new_tag(\"a\", href=href)\n",
    "            a_link.string = title\n",
    "            dt_link.append(a_link)\n",
    "            dl_category.append(dt_link)\n",
    "\n",
    "        dl.append(dl_category)\n",
    "\n",
    "    body.append(dl)\n",
    "    html.append(body)\n",
    "\n",
    "    # Сохранение результата в файл\n",
    "    with open(output_file, \"w\", encoding=\"utf-8\") as file:\n",
    "        file.write(str(soup.prettify()))"
   ]
  },
  {
   "cell_type": "code",
   "execution_count": null,
   "metadata": {},
   "outputs": [],
   "source": [
    "# Применение функции\n",
    "categories = {\n",
    "    \"Work\": [\n",
    "        (\"Work Example\", \"https://work-example.com\"),\n",
    "        (\"Project Docs\", \"https://docs.example.com\")\n",
    "    ],\n",
    "    \"Personal\": [\n",
    "        (\"Personal Blog\", \"https://blog.example.com\"),\n",
    "        (\"Photos\", \"https://photos.example.com\")\n",
    "    ],\n",
    "    \"Uncategorized\": [\n",
    "        (\"Random Link\", \"https://random.example.com\")\n",
    "    ]\n",
    "}\n",
    "\n",
    "save_bookmarks_to_html(categories, \"sorted_bookmarks.html\")"
   ]
  },
  {
   "cell_type": "markdown",
   "metadata": {},
   "source": []
  }
 ],
 "metadata": {
  "kernelspec": {
   "display_name": "Python 3",
   "language": "python",
   "name": "python3"
  },
  "language_info": {
   "codemirror_mode": {
    "name": "ipython",
    "version": 3
   },
   "file_extension": ".py",
   "mimetype": "text/x-python",
   "name": "python",
   "nbconvert_exporter": "python",
   "pygments_lexer": "ipython3",
   "version": "3.12.3"
  }
 },
 "nbformat": 4,
 "nbformat_minor": 2
}

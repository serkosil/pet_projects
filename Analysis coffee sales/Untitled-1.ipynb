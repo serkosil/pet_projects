{
 "cells": [
  {
   "cell_type": "code",
   "execution_count": 1,
   "metadata": {},
   "outputs": [],
   "source": [
    "import pandas as pd\n",
    "import chardet"
   ]
  },
  {
   "cell_type": "code",
   "execution_count": 2,
   "metadata": {},
   "outputs": [
    {
     "name": "stdout",
     "output_type": "stream",
     "text": [
      "{'encoding': 'utf-8', 'confidence': 0.99, 'language': ''}\n"
     ]
    }
   ],
   "source": [
    "with open('coffee_sales2.csv', 'rb') as f:\n",
    "    result = chardet.detect(f.read())\n",
    "    print(result)"
   ]
  },
  {
   "cell_type": "code",
   "execution_count": null,
   "metadata": {},
   "outputs": [],
   "source": [
    "# Загрузка данных из файла\n",
    "df = pd.read_csv('coffee_sales2.csv')\n",
    "\n",
    "# Словарь для замены городов (на российские города)\n",
    "city_replacements = {\n",
    "    'Riyadh': 'Москва',\n",
    "    'Abha': 'Санкт-Петербург',\n",
    "    'Tabuk': 'Новосибирск',\n",
    "    'Hail': 'Екатеринбург',\n",
    "    'Khobar': 'Казань',\n",
    "    'Buraidah': 'Нижний Новгород',\n",
    "    'Medina': 'Челябинск',\n",
    "    'Dammam': 'Самара',\n",
    "    'Jeddah': 'Омск',\n",
    "    'Mecca': 'Ростов-на-Дону'\n",
    "}\n",
    "\n",
    "# Словарь для замены продуктов (перевод на русский язык)\n",
    "product_replacements = {\n",
    "    'Colombian': 'Колумбийский',\n",
    "    'Costa Rica': 'Коста-Рика',\n",
    "    'Ethiopian': 'Эфиопский',\n",
    "    'Brazilian': 'Бразильский',\n",
    "    'Guatemala': 'Гватемала'\n",
    "}\n",
    "\n",
    "# Словарь для замены продуктов (перевод на русский язык)\n",
    "category_replacements = {\n",
    "    'coffee beans': 'зерновой'\n",
    "}\n",
    "\n",
    "# Заменяем названия городов\n",
    "df['City'] = df['City'].replace(city_replacements)\n",
    "\n",
    "# Заменяем названия продуктов\n",
    "df['Product'] = df['Product'].replace(product_replacements)\n",
    "\n",
    "# Заменяем названия продуктов\n",
    "df['Category'] = df['Category'].replace(category_replacements)\n",
    "\n",
    "# Сохраняем изменения в новый файл (или перезаписываем исходный)\n",
    "df.to_csv('coffee_sales2.csv', index=False)\n",
    "\n",
    "# Выводим первые строки для проверки\n",
    "print(df.head())"
   ]
  }
 ],
 "metadata": {
  "kernelspec": {
   "display_name": "Python 3",
   "language": "python",
   "name": "python3"
  },
  "language_info": {
   "codemirror_mode": {
    "name": "ipython",
    "version": 3
   },
   "file_extension": ".py",
   "mimetype": "text/x-python",
   "name": "python",
   "nbconvert_exporter": "python",
   "pygments_lexer": "ipython3",
   "version": "3.12.3"
  }
 },
 "nbformat": 4,
 "nbformat_minor": 2
}
